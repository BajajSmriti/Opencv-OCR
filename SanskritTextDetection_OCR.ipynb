{
 "cells": [
  {
   "cell_type": "markdown",
   "metadata": {},
   "source": [
    "### Import libraries "
   ]
  },
  {
   "cell_type": "code",
   "execution_count": 1,
   "metadata": {},
   "outputs": [],
   "source": [
    "import os \n",
    "import cv2\n",
    "import sys\n",
    "import json\n",
    "from PIL import Image \n",
    "from pdf2image import convert_from_path\n",
    "import pytesseract\n",
    "from pytesseract import Output"
   ]
  },
  {
   "cell_type": "markdown",
   "metadata": {},
   "source": [
    "### Converting pdf to jpg images"
   ]
  },
  {
   "cell_type": "code",
   "execution_count": 2,
   "metadata": {},
   "outputs": [],
   "source": [
    "# Path of the pdf \n",
    "PDF_file = \"Sanskrit_Text.pdf\"\n",
    "  \n",
    "# Store all the pages of the PDF in a variable \n",
    "pages = convert_from_path(PDF_file, 100) \n",
    "  \n",
    "# Counter to store images of each page of PDF to image \n",
    "image_counter = 1\n",
    "  \n",
    "# Iterate through all the pages stored above \n",
    "for page in pages: \n",
    "  \n",
    "    # Declaring filename for each page of PDF as JPG \n",
    "    # For each page, filename will be:  \n",
    "    # PDF page n -> page_n.jpg \n",
    "    filename = \"page_\"+str(image_counter)+\".jpg\"\n",
    "      \n",
    "    # Save the image of the page in system \n",
    "    page.save(filename, 'JPEG') \n",
    "  \n",
    "    # Increment the counter to update filename \n",
    "    image_counter = image_counter + 1"
   ]
  },
  {
   "cell_type": "markdown",
   "metadata": {},
   "source": [
    "### Reading text from images"
   ]
  },
  {
   "cell_type": "code",
   "execution_count": 3,
   "metadata": {},
   "outputs": [],
   "source": [
    "# Variable to get count of total number of pages \n",
    "filelimit = image_counter-1\n",
    "  \n",
    "# Iterate from 1 to total number of pages \n",
    "for i in range(1, filelimit + 1): \n",
    "  \n",
    "    # Set filename to recognize text from \n",
    "    # Again, these files will be:  \n",
    "    # page_n.jpg \n",
    "    filename = \"page_\"+str(i)+\".jpg\"\n",
    "          \n",
    "    # Variables needed for JSON parsing \n",
    "    data0 = {}\n",
    "    data1 = {}\n",
    "    count = 0\n",
    "    \n",
    "    # Reading the image file\n",
    "    img = cv2.imread(filename)\n",
    "    # Reading the image file\n",
    "    d = pytesseract.image_to_data(img, output_type=Output.DICT, lang='hin')\n",
    "    n_boxes = len(d['text'])\n",
    "    \n",
    "    f = open(\"JSON_Output.json\", \"a\") \n",
    "    \n",
    "    for i in range(n_boxes):\n",
    "        if i!=0 and int(d['conf'][i])<0 and d['line_num'][i]!=0:\n",
    "            #img = cv2.imread(filename)\n",
    "            count+=1\n",
    "            data2 = {}\n",
    "            \n",
    "            # Assigning the coordinates\n",
    "            (x, y, w, h) = (d['left'][i], d['top'][i], d['width'][i], d['height'][i])\n",
    "            cv2.rectangle(img, (x, y), (x + w, y + h), (0, 255, 0), 2)\n",
    "            \n",
    "            # Cropping the boxed statements\n",
    "            crop_img = img[y:y+h, x:x+w]            \n",
    "            filepath = filename[:-4]+\"extractedImage_\"+str(count)+\".jpg\"\n",
    "            cv2.imwrite(filepath, crop_img)\n",
    "            \n",
    "            # Preparing JSON\n",
    "            data2['top_left'] = '['+str(x)+','+str(y)+']'\n",
    "            data2['top_right'] = '['+str(x+w)+','+str(y)+']'\n",
    "            data2['bottom_left'] = '['+str(x)+','+str(y+h)+']'\n",
    "            data2['bottom_right'] = '['+str(x+w)+','+str(y+h)+']'\n",
    "            data1[\"box\"+str(count)] = data2\n",
    "    data0[filename[:-4]]=data1\n",
    "    json_data = json.dumps(data0)\n",
    "    f.write(json_data)\n",
    "    f.close()\n",
    "    \n",
    "    # Displaying image \n",
    "    cv2.namedWindow('img', cv2.WINDOW_NORMAL)\n",
    "    cv2.resizeWindow('img', 500, 500)\n",
    "    cv2.imshow('img', img)\n",
    "    cv2.waitKey(0) "
   ]
  }
 ],
 "metadata": {
  "kernelspec": {
   "display_name": "Python 3",
   "language": "python",
   "name": "python3"
  },
  "language_info": {
   "codemirror_mode": {
    "name": "ipython",
    "version": 3
   },
   "file_extension": ".py",
   "mimetype": "text/x-python",
   "name": "python",
   "nbconvert_exporter": "python",
   "pygments_lexer": "ipython3",
   "version": "3.7.6"
  }
 },
 "nbformat": 4,
 "nbformat_minor": 4
}
